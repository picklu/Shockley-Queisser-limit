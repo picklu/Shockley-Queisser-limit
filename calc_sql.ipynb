{
 "cells": [
  {
   "cell_type": "code",
   "execution_count": 16,
   "metadata": {},
   "outputs": [],
   "source": [
    "import numpy as np\n",
    "import matplotlib.pyplot as plt\n",
    "from scipy.integrate import cumtrapz"
   ]
  },
  {
   "cell_type": "code",
   "execution_count": 17,
   "metadata": {},
   "outputs": [],
   "source": [
    "k = 1.38064852e-23    # m^2 kg s^-2 K^-1, Boltzmann's constant\n",
    "h = 6.62607004e-34    # m^2 kg s^-1     , Planck's constant\n",
    "c = 2.99792458e8      # m s^-1          , speed of light\n",
    "eV = 1.6021766208e-19 # joule           , eV to joule\n",
    "q = 1.6021766208e-19  # C               , elemental charge"
   ]
  },
  {
   "cell_type": "code",
   "execution_count": 18,
   "metadata": {
    "scrolled": false
   },
   "outputs": [],
   "source": [
    "ref_solar_irradiance = np.loadtxt(\"AM1_5G_solar_irradiance.csv\", delimiter=\",\", skiprows=1)"
   ]
  },
  {
   "cell_type": "code",
   "execution_count": 19,
   "metadata": {},
   "outputs": [],
   "source": [
    "WL, solar_per_nm = ref_solar_irradiance[:, 1], ref_solar_irradiance[:, 3]\n",
    "E = (h * c * 1e9) / (eV * WL) # nm to eV\n",
    "solar_per_E = solar_per_nm * (eV / 1e-9) * h * c / (eV * E)**2 # jacobian transformation, W m^-2 eV^-1"
   ]
  },
  {
   "cell_type": "code",
   "execution_count": 20,
   "metadata": {},
   "outputs": [],
   "source": [
    "Es = np.arange(0.32, 4.4, 0.002)\n",
    "# linear interpolation to get an equally spaced spectrum\n",
    "solar_per_Es = np.interp(Es, E, solar_per_E)  # W m^-2 eV^-1\n",
    "solar_flux = solar_per_Es / (Es * eV)  # number of photon m^-2 eV^-1 s^-1"
   ]
  },
  {
   "cell_type": "code",
   "execution_count": 21,
   "metadata": {
    "scrolled": true
   },
   "outputs": [
    {
     "data": {
      "image/png": "[encoded data removed]",
      "text/plain": [
       "<Figure size 432x288 with 1 Axes>"
      ]
     },
     "metadata": {
      "needs_background": "light"
     },
     "output_type": "display_data"
    }
   ],
   "source": [
    "plt.plot(Es, solar_flux)\n",
    "plt.show()"
   ]
  },
  {
   "cell_type": "code",
   "execution_count": 22,
   "metadata": {},
   "outputs": [],
   "source": [
    "T=300\n",
    "EQE_EL=1.0\n",
    "intensity=1.0"
   ]
  },
  {
   "cell_type": "code",
   "execution_count": 23,
   "metadata": {},
   "outputs": [],
   "source": [
    "# Calculate Jsc\n",
    "solar_flux_cumm = cumtrapz(solar_flux[::-1], Es[::-1], initial=0)\n",
    "solar_flux_aboveE = solar_flux_cumm[::-1] * -1 * intensity\n",
    "Jsc = solar_flux_aboveE * q * 0.1  # mA/cm^2  (0.1: from A/m2 to mA/cm2)"
   ]
  },
  {
   "cell_type": "code",
   "execution_count": 24,
   "metadata": {},
   "outputs": [],
   "source": [
    "# Calculate J0\n",
    "bb_phi_T = 2 * np.pi * (((Es * eV)**2) * eV / ((h**3) * (c**2)) / (\n",
    "                           np.exp(Es * eV / (k * T)) - 1))\n",
    "\n",
    "bb_flux_cumm = cumtrapz(bb_phi_T[::-1], Es[::-1], initial=0)\n",
    "bb_flux_aboveE = bb_flux_cumm[::-1] * -1\n",
    "J0 = bb_flux_aboveE * q * 0.1 / EQE_EL  # (0.1: from A/m2 to mA/cm2)\n",
    "J0[-1] = np.nan  # avoid divide by zero when calculating Voc"
   ]
  },
  {
   "cell_type": "code",
   "execution_count": 25,
   "metadata": {},
   "outputs": [],
   "source": [
    "# Calculate Voc\n",
    "Voc = (k * T / q) * np.log((Jsc/J0) + 1)"
   ]
  },
  {
   "cell_type": "code",
   "execution_count": 26,
   "metadata": {},
   "outputs": [],
   "source": [
    "PCE = []\n",
    "for i, E in enumerate(Es):\n",
    "    V = np.arange(0, E, 0.001)  # can change upperbound to Voc\n",
    "    J = -1 * Jsc[i] + J0[i] * (\n",
    "        np.exp(q * V / (k * T)) - 1)\n",
    "    PCE.append(-1 * np.min(J * V) / intensity)"
   ]
  },
  {
   "cell_type": "code",
   "execution_count": 27,
   "metadata": {},
   "outputs": [],
   "source": [
    "# Calculate FF\n",
    "FF = PCE / (Voc * Jsc) * 100.0 * intensity"
   ]
  },
  {
   "cell_type": "code",
   "execution_count": 28,
   "metadata": {},
   "outputs": [],
   "source": [
    "def get_params(Eg, toPrint=True):\n",
    "    '''\n",
    "    input Eg, return or print the corresponding parameters\n",
    "    if toPrint == True : print the result, return nothing\n",
    "    if toPrint == False: return the result as a dictionary\n",
    "    '''\n",
    "\n",
    "    if not Es[0] <= Eg <= Es[-1]:\n",
    "        print(\"invalid bandgap \\nvalid range: 0.32 to 4.4\")\n",
    "        return\n",
    "    params = {}\n",
    "    # could change these to binary search\n",
    "    params[\"Voc\"] = np.interp([Eg], Es, Voc)[0]\n",
    "    params[\"Jsc\"] = np.interp([Eg], Es, Jsc)[0]\n",
    "    params[\"FF\"] = np.interp([Eg], Es, FF)[0]\n",
    "    params[\"PCE\"] = np.interp([Eg], Es, PCE)[0]\n",
    "    params[\"J0\"] = np.interp([Eg], Es, J0)[0]\n",
    "\n",
    "    if toPrint:  # won't return anything; print in console instead\n",
    "        print()\n",
    "        print(\"Bandgap: {0:.3f} eV \\n\".format(Eg))\n",
    "        print(\"J0 = {0:.3g} mA/cm^2\".format(params[\"J0\"]))\n",
    "        print(\"Voc = {0:.4g} \\t V\".format(params[\"Voc\"]))\n",
    "        print(\"Jsc = {0:.4g} \\t mA/cm^2\".format(params[\"Jsc\"]))\n",
    "        print(\"FF  = {0:.2f} \\t %\".format(params[\"FF\"]))\n",
    "        print(\"PCE = {0:.3f} \\t %\".format(params[\"PCE\"]))\n",
    "    \n",
    "    return params"
   ]
  },
  {
   "cell_type": "code",
   "execution_count": 29,
   "metadata": {},
   "outputs": [
    {
     "name": "stdout",
     "output_type": "stream",
     "text": [
      "\n",
      "Bandgap: 1.340 eV \n",
      "\n",
      "J0 = 2.36e-17 mA/cm^2\n",
      "Voc = 1.082 \t V\n",
      "Jsc = 35.04 \t mA/cm^2\n",
      "FF  = 88.90 \t %\n",
      "PCE = 33.694 \t %\n"
     ]
    },
    {
     "data": {
      "image/png": "[encoded data removed]",
      "text/plain": [
       "<Figure size 432x288 with 1 Axes>"
      ]
     },
     "metadata": {
      "needs_background": "light"
     },
     "output_type": "display_data"
    }
   ],
   "source": [
    "# Simulate JV curve\n",
    "Eg = 1.34\n",
    "Vstep=0.001\n",
    "Vmin=-0.5\n",
    "\n",
    "V = np.arange(Vmin, Eg, Vstep)\n",
    "params = get_params(Eg)\n",
    "J0, Jsc = params[\"J0\"], params[\"Jsc\"]\n",
    "\n",
    "J = -1.0 * Jsc + J0 * (np.exp(q * V / (k * T)) - 1)\n",
    "Jdark = J + Jsc\n",
    "mask = (J <= 200)\n",
    "# to do:\n",
    "# could modify the method to take xlim, ylim as inputs\n",
    "# move 'title' into the figure and add add Voc Jsc FF, PCE to it\n",
    "title = \"Theoretical J-V for Eg = {:.3f} eV\".format(Eg)\n",
    "# plt.figure()\n",
    "plt.plot(V[mask], J[mask], 'r')\n",
    "plt.plot([-1, Eg], [0, 0], 'k')\n",
    "plt.plot([0, 0], [-2 * Jsc, 200], 'k')\n",
    "plt.plot(V[mask], Jdark[mask], 'b')\n",
    "plt.ylim(-1.5 * Jsc, min(40, 1.5 * Jsc))\n",
    "plt.xlim(-0.25, Eg)\n",
    "plt.xlabel(\"Voltage (V)\", fontsize=16)\n",
    "plt.ylabel(\"Current density (mA/$\\mathregular{cm^2}$)\",\n",
    "           fontsize=16)\n",
    "plt.tick_params(labelsize=16)\n",
    "plt.title(title)\n",
    "plt.tight_layout()"
   ]
  },
  {
   "cell_type": "code",
   "execution_count": null,
   "metadata": {},
   "outputs": [],
   "source": []
  }
 ],
 "metadata": {
  "kernelspec": {
   "display_name": "Python 3",
   "language": "python",
   "name": "python3"
  },
  "language_info": {
   "codemirror_mode": {
    "name": "ipython",
    "version": 3
   },
   "file_extension": ".py",
   "mimetype": "text/x-python",
   "name": "python",
   "nbconvert_exporter": "python",
   "pygments_lexer": "ipython3",
   "version": "3.7.3"
  }
 },
 "nbformat": 4,
 "nbformat_minor": 2
}
